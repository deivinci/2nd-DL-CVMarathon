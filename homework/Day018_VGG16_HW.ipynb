{
 "cells": [
  {
   "cell_type": "code",
   "execution_count": null,
   "metadata": {},
   "outputs": [],
   "source": [
    "\n",
    "from keras.applications.vgg16 import VGG16\n",
    "from keras.preprocessing import image\n",
    "from keras.applications.vgg16 import preprocess_input, decode_predictions\n",
    "import numpy as np\n",
    "\n",
    "# include_top=True，表示會載入完整的 VGG16 模型，包括加在最後3層的卷積層\n",
    "# include_top=False，表示會載入 VGG16 的模型，不包括加在最後3層的卷積層，通常是取得 Features\n",
    "# 若下載失敗，請先刪除 c:\\<使用者>\\.keras\\models\\vgg16_weights_tf_dim_ordering_tf_kernels.h5\n",
    "model = VGG16(weights='imagenet', include_top=True) \n",
    "\n",
    "# Input：要辨識的影像\n",
    "img_path = 'Tano.jpg'\n",
    "\n",
    "img = image.load_img(img_path, target_size=(224, 224))\n",
    "x = image.img_to_array(img)\n",
    "x = np.expand_dims(x, axis=0)\n",
    "x = preprocess_input(x)\n",
    "\n",
    "# 預測，取得features，維度為 (1,7,7,512)\n",
    "features = model.predict(x)\n",
    "# 取得前三個最可能的類別及機率\n",
    "print('Predicted:', decode_predictions(features, top=3)[0])"
   ]
  }
 ],
 "metadata": {
  "kernelspec": {
   "display_name": "Python 3",
   "language": "python",
   "name": "python3"
  },
  "language_info": {
   "codemirror_mode": {
    "name": "ipython",
    "version": 3
   },
   "file_extension": ".py",
   "mimetype": "text/x-python",
   "name": "python",
   "nbconvert_exporter": "python",
   "pygments_lexer": "ipython3",
   "version": "3.7.4"
  }
 },
 "nbformat": 4,
 "nbformat_minor": 2
}
